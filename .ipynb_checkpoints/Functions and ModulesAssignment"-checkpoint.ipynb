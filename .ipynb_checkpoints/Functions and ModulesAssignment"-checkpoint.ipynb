{
 "cells": [
  {
   "cell_type": "code",
   "execution_count": 1,
   "id": "8cd6ab11-b4b1-486c-ac67-fd37790e621a",
   "metadata": {},
   "outputs": [
    {
     "name": "stdout",
     "output_type": "stream",
     "text": [
      "12\n",
      "Alice is 25 years old.\n",
      "25.0\n",
      "4.0\n"
     ]
    }
   ],
   "source": [
    "# Problem 1\n",
    "def multiply(a, b):\n",
    "    return a * b\n",
    "\n",
    "result = multiply(3, 4)\n",
    "print(result)\n",
    "\n",
    "# Problem 2\n",
    "def describe_person(name, age):\n",
    "    print(f\"{name} is {age} years old.\")\n",
    "\n",
    "describe_person(\"Alice\", 25)\n",
    "\n",
    "# Problem 3\n",
    "def calculate_area(base, height):\n",
    "    return 0.5 * base * height\n",
    "\n",
    "area = calculate_area(10, 5)\n",
    "print(area)\n",
    "\n",
    "# Problem 4\n",
    "import math\n",
    "\n",
    "number = 16\n",
    "result = math.sqrt(number)\n",
    "print(result)\n",
    "\n",
    "# Problem 5\n",
    "import random\n",
    "\n",
    "def roll_dice(sides):\n",
    "    return random.randint(1, sides)"
   ]
  },
  {
   "cell_type": "code",
   "execution_count": null,
   "id": "a513d73e-334b-4bec-a07e-e516ea42df20",
   "metadata": {},
   "outputs": [],
   "source": []
  }
 ],
 "metadata": {
  "kernelspec": {
   "display_name": "Python 3 (ipykernel)",
   "language": "python",
   "name": "python3"
  },
  "language_info": {
   "codemirror_mode": {
    "name": "ipython",
    "version": 3
   },
   "file_extension": ".py",
   "mimetype": "text/x-python",
   "name": "python",
   "nbconvert_exporter": "python",
   "pygments_lexer": "ipython3",
   "version": "3.10.12"
  }
 },
 "nbformat": 4,
 "nbformat_minor": 5
}

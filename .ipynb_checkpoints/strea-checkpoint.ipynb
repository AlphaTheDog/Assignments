{
 "cells": [
  {
   "cell_type": "code",
   "execution_count": null,
   "id": "9042d5e8-2b5c-4b13-9ff8-6f5e7e96ca27",
   "metadata": {},
   "outputs": [],
   "source": []
  }
 ],
 "metadata": {
  "kernelspec": {
   "display_name": "Python 3 (ipykernel)",
   "language": "python",
   "name": "python3"
  },
  "language_info": {
   "name": ""
  }
 },
 "nbformat": 4,
 "nbformat_minor": 5
}

{
 "cells": [
  {
   "cell_type": "code",
   "execution_count": 1,
   "id": "1b657238-17ba-4da8-b1ac-592d9d140c17",
   "metadata": {},
   "outputs": [
    {
     "name": "stdin",
     "output_type": "stream",
     "text": [
      "Enter an integer:  765\n"
     ]
    },
    {
     "name": "stdout",
     "output_type": "stream",
     "text": [
      "The number is positive.\n"
     ]
    }
   ],
   "source": [
    "### 2 Write a Python script that demonstrates the use of conditional statements:\n",
    "\n",
    "# answer\n",
    "number = int(input(\"Enter an integer: \"))\n",
    "\n",
    "if number > 0:\n",
    "    print(\"The number is positive.\")\n",
    "elif number < 0:\n",
    "    print(\"The number is negative.\")\n",
    "else:\n",
    "    print(\"The number is zero.\")\n",
    "\n"
   ]
  },
  {
   "cell_type": "code",
   "execution_count": 2,
   "id": "efdb628b-573f-492b-aeee-434359bdd505",
   "metadata": {},
   "outputs": [
    {
     "name": "stdout",
     "output_type": "stream",
     "text": [
      "Integer: 1  Square: 1\n",
      "Integer: 2  Square: 4\n",
      "Integer: 3  Square: 9\n",
      "Integer: 4  Square: 16\n",
      "Integer: 5  Square: 25\n",
      "Integer: 6  Square: 36\n",
      "Integer: 7  Square: 49\n",
      "Integer: 8  Square: 64\n",
      "Integer: 9  Square: 81\n",
      "Integer: 10  Square: 100\n"
     ]
    }
   ],
   "source": [
    "### 3 Write a Python script that demonstrates the use of a for loop:\n",
    "#answer\n",
    "\n",
    "for i in range(1, 11):\n",
    "    print(\"Integer:\", i, \" Square:\", i**2)\n",
    "    \n",
    "    "
   ]
  },
  {
   "cell_type": "code",
   "execution_count": null,
   "id": "d770a842-069b-439f-b000-b0a8ccfa2987",
   "metadata": {},
   "outputs": [],
   "source": []
  },
  {
   "cell_type": "code",
   "execution_count": 3,
   "id": "6ea3282e-94cd-48e8-9432-ccb3bd38322e",
   "metadata": {},
   "outputs": [
    {
     "name": "stdin",
     "output_type": "stream",
     "text": [
      "Enter a positive integer:  6\n"
     ]
    },
    {
     "name": "stdout",
     "output_type": "stream",
     "text": [
      "Factorial of 6 is 720\n"
     ]
    }
   ],
   "source": [
    "### 4 Write a Python script that demonstrates the use of a while loop:\n",
    "# answer\n",
    "number = int(input(\"Enter a positive integer: \"))\n",
    "factorial = 1\n",
    "counter = 1\n",
    "\n",
    "while counter <= number:\n",
    "    factorial *= counter\n",
    "    counter += 1\n",
    "\n",
    "print(\"Factorial of\", number, \"is\", factorial)"
   ]
  },
  {
   "cell_type": "code",
   "execution_count": 4,
   "id": "6ef96ae1-d743-42ca-805e-f73067ae26c8",
   "metadata": {},
   "outputs": [
    {
     "name": "stdout",
     "output_type": "stream",
     "text": [
      "1\n",
      "3\n",
      "5\n",
      "7\n",
      "9\n",
      "11\n",
      "13\n"
     ]
    }
   ],
   "source": [
    "### 5 Write a Python script that demonstrates the use of loop control statements:\n",
    "# answer \n",
    "for i in range(1, 21):\n",
    "    if i >= 15:\n",
    "        break\n",
    "    if i % 2 == 0:\n",
    "        continue\n",
    "    print(i)"
   ]
  },
  {
   "cell_type": "code",
   "execution_count": null,
   "id": "378d0c37-9275-4764-b1fb-40c55d6ac94a",
   "metadata": {},
   "outputs": [],
   "source": []
  }
 ],
 "metadata": {
  "kernelspec": {
   "display_name": "Python 3 (ipykernel)",
   "language": "python",
   "name": "python3"
  },
  "language_info": {
   "codemirror_mode": {
    "name": "ipython",
    "version": 3
   },
   "file_extension": ".py",
   "mimetype": "text/x-python",
   "name": "python",
   "nbconvert_exporter": "python",
   "pygments_lexer": "ipython3",
   "version": "3.10.12"
  }
 },
 "nbformat": 4,
 "nbformat_minor": 5
}

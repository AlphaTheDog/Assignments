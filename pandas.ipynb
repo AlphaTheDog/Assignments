{
 "cells": [
  {
   "cell_type": "code",
   "execution_count": 1,
   "id": "d80e9e3b-43a9-4127-99a7-8455a1e6ab20",
   "metadata": {},
   "outputs": [
    {
     "name": "stdout",
     "output_type": "stream",
     "text": [
      "0    4\n",
      "1    7\n",
      "2   -5\n",
      "3    3\n",
      "dtype: int64\n",
      "a    4\n",
      "b    7\n",
      "c   -5\n",
      "d    3\n",
      "dtype: int64\n"
     ]
    }
   ],
   "source": [
    "import pandas as pd\n",
    "\n",
    "# Creating a Series with default index\n",
    "data = [4, 7, -5, 3]\n",
    "s1 = pd.Series(data)\n",
    "print(s1)\n",
    "\n",
    "# Creating a Series with a custom index\n",
    "index = ['a', 'b', 'c', 'd']\n",
    "s2 = pd.Series(data, index=index)\n",
    "print(s2)"
   ]
  },
  {
   "cell_type": "code",
   "execution_count": 2,
   "id": "20a4d4b1-9eb7-4378-9216-fd2495229958",
   "metadata": {},
   "outputs": [
    {
     "name": "stdout",
     "output_type": "stream",
     "text": [
      "   age           city\n",
      "0   25       New York\n",
      "1   30  San Francisco\n",
      "2   35    Los Angeles\n",
      "3   40        Chicago\n"
     ]
    }
   ],
   "source": [
    "import pandas as pd\n",
    "\n",
    "s1 = pd.Series([25, 30, 35, 40], name='age')\n",
    "s2 = pd.Series(['New York', 'San Francisco', 'Los Angeles', 'Chicago'], name='city')\n",
    "\n",
    "df = pd.concat([s1, s2], axis=1)\n",
    "print(df)"
   ]
  },
  {
   "cell_type": "code",
   "execution_count": 4,
   "id": "c78f3f76-9a53-4894-af6e-fb700aca7436",
   "metadata": {},
   "outputs": [
    {
     "name": "stdout",
     "output_type": "stream",
     "text": [
      "         id                                title   type  \\\n",
      "0  ts300399  Five Came Back: The Reference Films   SHOW   \n",
      "1   tm84618                          Taxi Driver  MOVIE   \n",
      "2  tm154986                          Deliverance  MOVIE   \n",
      "3  tm127384      Monty Python and the Holy Grail  MOVIE   \n",
      "4  tm120801                      The Dirty Dozen  MOVIE   \n",
      "\n",
      "                                         description  release_year  \\\n",
      "0  This collection includes 12 World War II-era p...          1945   \n",
      "1  A mentally unstable Vietnam War veteran works ...          1976   \n",
      "2  Intent on seeing the Cahulawassee River before...          1972   \n",
      "3  King Arthur, accompanied by his squire, recrui...          1975   \n",
      "4  12 American military prisoners in World War II...          1967   \n",
      "\n",
      "  age_certification  runtime                                       genres  \\\n",
      "0             TV-MA       51                            ['documentation']   \n",
      "1                 R      114                           ['drama', 'crime']   \n",
      "2                 R      109  ['drama', 'action', 'thriller', 'european']   \n",
      "3                PG       91              ['fantasy', 'action', 'comedy']   \n",
      "4               NaN      150                            ['war', 'action']   \n",
      "\n",
      "  production_countries  seasons    imdb_id  imdb_score  imdb_votes  \\\n",
      "0               ['US']      1.0        NaN         NaN         NaN   \n",
      "1               ['US']      NaN  tt0075314         8.2    808582.0   \n",
      "2               ['US']      NaN  tt0068473         7.7    107673.0   \n",
      "3               ['GB']      NaN  tt0071853         8.2    534486.0   \n",
      "4         ['GB', 'US']      NaN  tt0061578         7.7     72662.0   \n",
      "\n",
      "   tmdb_popularity  tmdb_score  \n",
      "0            0.600         NaN  \n",
      "1           40.965       8.179  \n",
      "2           10.010       7.300  \n",
      "3           15.461       7.811  \n",
      "4           20.398       7.600  \n"
     ]
    }
   ],
   "source": [
    "import pandas as pd\n",
    "\n",
    "file_path = 'titles.csv'\n",
    "df = pd.read_csv(file_path)\n",
    "print(df.head())"
   ]
  },
  {
   "cell_type": "code",
   "execution_count": 7,
   "id": "8bb1c586-67d7-422d-8cee-0f03bbbe33d0",
   "metadata": {},
   "outputs": [],
   "source": [
    "import pandas as pd\n",
    "\n",
    "data = {\n",
    "    'name': ['Alice', 'Bob', 'Charlie', 'David'],\n",
    "    'age': [25, 30, 35, 40],\n",
    "    'city': ['New York', 'San Francisco', 'Los Angeles', 'Chicago']\n",
    "}\n",
    "df = pd.DataFrame(data)\n",
    "\n",
    "file_path = 'output_data.xlsx'\n",
    "df.to_excel(file_path, index=False, sheet_name='Sheet1')"
   ]
  },
  {
   "cell_type": "code",
   "execution_count": 8,
   "id": "2035261b-a889-4e3c-9699-eea58fdfe88b",
   "metadata": {},
   "outputs": [],
   "source": [
    "data = {\n",
    "    'name': ['Alice', 'Bob', 'Charlie', 'David'],\n",
    "    'age': [25, 30, 35, 40],\n",
    "    'city': ['New York', 'San Francisco', 'Los Angeles', 'Chicago']\n",
    "}\n",
    "df = pd.DataFrame(data)\n",
    "\n",
    "file_path = 'output_data.json'\n",
    "df.to_json(file_path, orient='records')"
   ]
  },
  {
   "cell_type": "code",
   "execution_count": 9,
   "id": "eb664e13-597e-47c9-a533-f955f33d6d2b",
   "metadata": {},
   "outputs": [
    {
     "data": {
      "text/html": [
       "<div>\n",
       "<style scoped>\n",
       "    .dataframe tbody tr th:only-of-type {\n",
       "        vertical-align: middle;\n",
       "    }\n",
       "\n",
       "    .dataframe tbody tr th {\n",
       "        vertical-align: top;\n",
       "    }\n",
       "\n",
       "    .dataframe thead th {\n",
       "        text-align: right;\n",
       "    }\n",
       "</style>\n",
       "<table border=\"1\" class=\"dataframe\">\n",
       "  <thead>\n",
       "    <tr style=\"text-align: right;\">\n",
       "      <th></th>\n",
       "      <th>name</th>\n",
       "      <th>age</th>\n",
       "      <th>city</th>\n",
       "    </tr>\n",
       "  </thead>\n",
       "  <tbody>\n",
       "    <tr>\n",
       "      <th>4</th>\n",
       "      <td>Eva</td>\n",
       "      <td>45</td>\n",
       "      <td>Miami</td>\n",
       "    </tr>\n",
       "    <tr>\n",
       "      <th>5</th>\n",
       "      <td>Frank</td>\n",
       "      <td>50</td>\n",
       "      <td>Boston</td>\n",
       "    </tr>\n",
       "  </tbody>\n",
       "</table>\n",
       "</div>"
      ],
      "text/plain": [
       "    name  age    city\n",
       "4    Eva   45   Miami\n",
       "5  Frank   50  Boston"
      ]
     },
     "execution_count": 9,
     "metadata": {},
     "output_type": "execute_result"
    }
   ],
   "source": [
    "import pandas as pd\n",
    "\n",
    "data = {\n",
    "    'name': ['Alice', 'Bob', 'Charlie', 'David', 'Eva', 'Frank'],\n",
    "    'age': [25, 30, 35, 40, 45, 50],\n",
    "    'city': ['New York', 'San Francisco', 'Los Angeles', 'Chicago', 'Miami', 'Boston']\n",
    "}\n",
    "df = pd.DataFrame(data)\n",
    "\n",
    "# Display the first 3 rows\n",
    "df.head(3)\n",
    "\n",
    "# Display the last 2 rows\n",
    "df.tail(2)"
   ]
  },
  {
   "cell_type": "code",
   "execution_count": 10,
   "id": "c2893147-39e3-4f59-82ba-9258aa8873a6",
   "metadata": {},
   "outputs": [
    {
     "name": "stdout",
     "output_type": "stream",
     "text": [
      "name       Alice\n",
      "age           25\n",
      "city    New York\n",
      "Name: A, dtype: object\n",
      "      name  age         city\n",
      "A    Alice   25     New York\n",
      "C  Charlie   35  Los Angeles\n",
      "New York\n",
      "      name  age\n",
      "A    Alice   25\n",
      "B      Bob   30\n",
      "C  Charlie   35\n"
     ]
    }
   ],
   "source": [
    "data = {\n",
    "    'name': ['Alice', 'Bob', 'Charlie', 'David'],\n",
    "    'age': [25, 30, 35, 40],\n",
    "    'city': ['New York', 'San Francisco', 'Los Angeles', 'Chicago']\n",
    "}\n",
    "df = pd.DataFrame(data, index=['A', 'B', 'C', 'D'])\n",
    "\n",
    "# Select a single row by index label\n",
    "print(df.loc['A'])\n",
    "\n",
    "# Select multiple rows by index labels\n",
    "print(df.loc[['A', 'C']])\n",
    "\n",
    "# Select a single value using row and column labels\n",
    "print(df.loc['A', 'city'])\n",
    "\n",
    "# Slice rows and select specific columns\n",
    "print(df.loc['A':'C', ['name', 'age']])"
   ]
  },
  {
   "cell_type": "code",
   "execution_count": 12,
   "id": "24fceb86-b035-47fc-be02-d68ce7950342",
   "metadata": {},
   "outputs": [
    {
     "name": "stdout",
     "output_type": "stream",
     "text": [
      "             age        income\n",
      "count   4.000000      4.000000\n",
      "mean   32.500000  57500.000000\n",
      "std     6.454972   6454.972244\n",
      "min    25.000000  50000.000000\n",
      "25%    28.750000  53750.000000\n",
      "50%    32.500000  57500.000000\n",
      "75%    36.250000  61250.000000\n",
      "max    40.000000  65000.000000\n",
      "age          32.5\n",
      "income    57500.0\n",
      "dtype: float64\n",
      "age          32.5\n",
      "income    57500.0\n",
      "dtype: float64\n",
      "age          25\n",
      "income    50000\n",
      "dtype: int64\n",
      "age          40\n",
      "income    65000\n",
      "dtype: int64\n",
      "age          6.454972\n",
      "income    6454.972244\n",
      "dtype: float64\n",
      "age          130\n",
      "income    230000\n",
      "dtype: int64\n",
      "age       4\n",
      "income    4\n",
      "dtype: int64\n"
     ]
    }
   ],
   "source": [
    "#Pandas provides several methods to compute descriptive statistics of a DataFrame, such as describe(), mean(), median(), min(), max(), std(), sum(), and count().\n",
    "\n",
    "import pandas as pd\n",
    "\n",
    "data = {\n",
    "    'age': [25, 30, 35, 40],\n",
    "    'income': [50000, 55000, 60000, 65000]\n",
    "}\n",
    "df = pd.DataFrame(data)\n",
    "\n",
    "# Generate summary statistics\n",
    "print(df.describe())\n",
    "\n",
    "# Compute the mean\n",
    "print(df.mean())\n",
    "\n",
    "# Compute the median\n",
    "print(df.median())\n",
    "\n",
    "# Find the minimum and maximum values\n",
    "print(df.min())\n",
    "print(df.max())\n",
    "\n",
    "# Compute the standard deviation\n",
    "print(df.std())\n",
    "\n",
    "# Calculate the sum and count\n",
    "print(df.sum())\n",
    "print(df.count())"
   ]
  },
  {
   "cell_type": "code",
   "execution_count": 13,
   "id": "af198b30-0845-4de2-a672-a3a87e06d3f2",
   "metadata": {},
   "outputs": [
    {
     "name": "stdout",
     "output_type": "stream",
     "text": [
      "department\n",
      "HR       105000\n",
      "IT       122000\n",
      "Sales    142000\n",
      "Name: salary, dtype: int64\n",
      "department\n",
      "HR       52500.0\n",
      "IT       61000.0\n",
      "Sales    71000.0\n",
      "Name: salary, dtype: float64\n"
     ]
    },
    {
     "data": {
      "text/plain": [
       "department\n",
       "HR       52500.0\n",
       "IT       61000.0\n",
       "Sales    71000.0\n",
       "Name: salary, dtype: float64"
      ]
     },
     "execution_count": 13,
     "metadata": {},
     "output_type": "execute_result"
    }
   ],
   "source": [
    "import pandas as pd\n",
    "\n",
    "data = {\n",
    "    'department': ['HR', 'HR', 'IT', 'IT', 'Sales', 'Sales'],\n",
    "    'employee': ['Alice', 'Bob', 'Charlie', 'David', 'Eva', 'Frank'],\n",
    "    'salary': [50000, 55000, 60000, 62000, 70000, 72000]\n",
    "}\n",
    "df = pd.DataFrame(data)\n",
    "\n",
    "# Group by the 'department' column and compute the total salary\n",
    "grouped_df = df.groupby('department')['salary'].sum()\n",
    "print(grouped_df)\n",
    "\n",
    "# Group by the 'department' column and compute the average salary\n",
    "grouped_df = df.groupby('department')['salary'].mean()\n",
    "print(grouped_df)\n",
    "\n",
    "# Group by the 'department' column and count the number of employees\n",
    "grouped_df"
   ]
  },
  {
   "cell_type": "code",
   "execution_count": 15,
   "id": "d4a9d2ef-2a0e-4e2d-9867-aec247f3a02b",
   "metadata": {},
   "outputs": [
    {
     "name": "stdout",
     "output_type": "stream",
     "text": [
      "(16598, 11)\n",
      "<class 'pandas.core.frame.DataFrame'>\n",
      "RangeIndex: 16598 entries, 0 to 16597\n",
      "Data columns (total 11 columns):\n",
      " #   Column        Non-Null Count  Dtype  \n",
      "---  ------        --------------  -----  \n",
      " 0   Rank          16598 non-null  int64  \n",
      " 1   Name          16598 non-null  object \n",
      " 2   Platform      16598 non-null  object \n",
      " 3   Year          16327 non-null  float64\n",
      " 4   Genre         16598 non-null  object \n",
      " 5   Publisher     16540 non-null  object \n",
      " 6   NA_Sales      16598 non-null  float64\n",
      " 7   EU_Sales      16598 non-null  float64\n",
      " 8   JP_Sales      16598 non-null  float64\n",
      " 9   Other_Sales   16598 non-null  float64\n",
      " 10  Global_Sales  16598 non-null  float64\n",
      "dtypes: float64(6), int64(1), object(4)\n",
      "memory usage: 1.4+ MB\n",
      "None\n",
      "Rank              0\n",
      "Name              0\n",
      "Platform          0\n",
      "Year            271\n",
      "Genre             0\n",
      "Publisher        58\n",
      "NA_Sales          0\n",
      "EU_Sales          0\n",
      "JP_Sales          0\n",
      "Other_Sales       0\n",
      "Global_Sales      0\n",
      "dtype: int64\n",
      "   Rank                      Name Platform    Year         Genre Publisher  \\\n",
      "0     1                Wii Sports      Wii  2006.0        Sports  Nintendo   \n",
      "1     2         Super Mario Bros.      NES  1985.0      Platform  Nintendo   \n",
      "2     3            Mario Kart Wii      Wii  2008.0        Racing  Nintendo   \n",
      "3     4         Wii Sports Resort      Wii  2009.0        Sports  Nintendo   \n",
      "4     5  Pokemon Red/Pokemon Blue       GB  1996.0  Role-Playing  Nintendo   \n",
      "\n",
      "   NA_Sales  EU_Sales  JP_Sales  Other_Sales  Global_Sales  \n",
      "0     41.49     29.02      3.77         8.46         82.74  \n",
      "1     29.08      3.58      6.81         0.77         40.24  \n",
      "2     15.85     12.88      3.79         3.31         35.82  \n",
      "3     15.75     11.01      3.28         2.96         33.00  \n",
      "4     11.27      8.89     10.22         1.00         31.37  \n",
      "861.7700000000001\n",
      "Publisher\n",
      "Nintendo           1784.43\n",
      "Electronic Arts    1093.39\n",
      "Activision          721.41\n",
      "Name: Global_Sales, dtype: float64\n",
      "0.24216068642745708\n",
      "   Rank        Name Platform    Year   Genre Publisher  NA_Sales  EU_Sales  \\\n",
      "0     1  Wii Sports      Wii  2006.0  Sports  Nintendo     41.49     29.02   \n",
      "\n",
      "   JP_Sales  Other_Sales  Global_Sales  \n",
      "0      3.77         8.46         82.74  \n"
     ]
    }
   ],
   "source": [
    "# 1 Import the necessary libraries and load the dataset.\n",
    "import pandas as pd\n",
    "\n",
    "url = \"vgsales.csv\"\n",
    "df = pd.read_csv(url)\n",
    "\n",
    "# 2 Display the first 10 rows of the dataset.\n",
    "\n",
    "df.head(10)\n",
    "\n",
    "# 3 Display the shape and basic information about the dataset.\n",
    "print(df.shape)\n",
    "print(df.info())\n",
    "\n",
    "# 4 Check for missing data and handle it appropriately.\n",
    "print(df.isna().sum())\n",
    "df = df.dropna()\n",
    "\n",
    "# 5 Display the top 5 video games by global sale\n",
    "\n",
    "df_top5_global = df.nlargest(5, 'Global_Sales')\n",
    "print(df_top5_global)\n",
    "\n",
    "# 6 Calculate the total sales in North America for the 'Action' genre.\n",
    "action_sales_na = df[df['Genre'] == 'Action']['NA_Sales'].sum()\n",
    "print(action_sales_na)\n",
    "\n",
    "# 7 Find the top 3 publishers by global sales.\n",
    "top3_publishers = df.groupby('Publisher')['Global_Sales'].sum().nlargest(3)\n",
    "print(top3_publishers)\n",
    "\n",
    "\n",
    "# 8 Calculate the average sales in Europe for the 'Shooter' genre.\n",
    "shooter_avg_sales_eu = df[df['Genre'] == 'Shooter']['EU_Sales'].mean()\n",
    "print(shooter_avg_sales_eu)\n",
    "\n",
    "\n",
    "# 9 Find the game with the highest sales in Japan in the 'Sports' genre.\n",
    "highest_jp_sports = df[df['Genre'] == 'Sports'].nlargest(1, 'JP_Sales')\n",
    "print(highest_jp_sports)"
   ]
  },
  {
   "cell_type": "code",
   "execution_count": null,
   "id": "3db65585-d7c6-4a64-a4ef-ae4978aaf898",
   "metadata": {},
   "outputs": [],
   "source": []
  }
 ],
 "metadata": {
  "kernelspec": {
   "display_name": "Python 3 (ipykernel)",
   "language": "python",
   "name": "python3"
  },
  "language_info": {
   "codemirror_mode": {
    "name": "ipython",
    "version": 3
   },
   "file_extension": ".py",
   "mimetype": "text/x-python",
   "name": "python",
   "nbconvert_exporter": "python",
   "pygments_lexer": "ipython3",
   "version": "3.10.12"
  }
 },
 "nbformat": 4,
 "nbformat_minor": 5
}

{
 "cells": [
  {
   "cell_type": "code",
   "execution_count": 4,
   "id": "f3eed2f5-aad4-4b6d-9505-7351811f1d9b",
   "metadata": {},
   "outputs": [
    {
     "name": "stdin",
     "output_type": "stream",
     "text": [
      "Enter the first integer:  65\n",
      "Enter the second integer:  7\n"
     ]
    },
    {
     "name": "stdout",
     "output_type": "stream",
     "text": [
      "Result: 9.285714285714286\n",
      "Script execution complete.\n"
     ]
    }
   ],
   "source": [
    "# 2 Write a Python script that demonstrates error handling:\n",
    "try:\n",
    "    num1 = int(input(\"Enter the first integer: \"))\n",
    "    num2 = int(input(\"Enter the second integer: \"))\n",
    "    result = num1 / num2\n",
    "    print(\"Result:\", result)\n",
    "except ZeroDivisionError:\n",
    "    print(\"Error: Division by zero.\")\n",
    "finally:\n",
    "    print(\"Script execution complete.\")\n",
    "    \n"
   ]
  },
  {
   "cell_type": "code",
   "execution_count": 1,
   "id": "ccd661af-f4f5-4d0f-94fb-3d68b2577268",
   "metadata": {},
   "outputs": [],
   "source": [
    "# 3 Write a Python script that demonstrates raising exceptions:\n",
    "\n",
    "import math\n",
    "\n",
    "def positive_square_root(number):\n",
    "    if number < 0:\n",
    "        raise ValueError(\"Invalid input: negative number\")\n",
    "    return math.sqrt(number)\n"
   ]
  },
  {
   "cell_type": "code",
   "execution_count": 5,
   "id": "2ac9c360-ae10-47fe-8751-370bce98dfad",
   "metadata": {},
   "outputs": [
    {
     "name": "stdout",
     "output_type": "stream",
     "text": [
      "Square root: 3.0\n"
     ]
    }
   ],
   "source": [
    "try:\n",
    "    result = positive_square_root(9)\n",
    "    print(\"Square root:\", result)\n",
    "except ValueError as e:\n",
    "    print(e)\n"
   ]
  },
  {
   "cell_type": "code",
   "execution_count": 2,
   "id": "1952af3f-0bfd-4923-8fb3-ffc4da695327",
   "metadata": {},
   "outputs": [
    {
     "data": {
      "text/plain": [
       "2.6457513110645907"
      ]
     },
     "execution_count": 2,
     "metadata": {},
     "output_type": "execute_result"
    }
   ],
   "source": [
    "positive_square_root(7)"
   ]
  },
  {
   "cell_type": "code",
   "execution_count": 3,
   "id": "fc561c08-1d36-47ec-a334-de2b6afa29ff",
   "metadata": {},
   "outputs": [
    {
     "name": "stdout",
     "output_type": "stream",
     "text": [
      "Original content:\n",
      " In your Python Repl, write a Python script that prompts the user for two integers using the input() function and attempts to divide the first integer by the second.\n",
      "Use a try-except block to handle a potential ZeroDivisionError and print an error message if the user attempts to divide by zero.\n",
      "Use a finally block to print a message indicating that the script has finished executing.\n",
      "Updated content:\n",
      " In your Python Repl, write a Python script that prompts the user for two integers using the input() function and attempts to divide the first integer by the second.\n",
      "Use a try-except block to handle a potential ZeroDivisionError and print an error message if the user attempts to divide by zero.\n",
      "Use a finally block to print a message indicating that the script has finished executing.\n",
      "This is a new line.\n"
     ]
    }
   ],
   "source": [
    "### 4 Write a Python script that demonstrates file I/O:\n",
    "\n",
    "with open(\"sample.txt\", \"r\") as file:\n",
    "    content = file.read()\n",
    "print(\"Original content:\\n\", content)\n",
    "\n",
    "with open(\"sample.txt\", \"a\") as file:\n",
    "    file.write(\"\\nThis is a new line.\")\n",
    "\n",
    "with open(\"sample.txt\", \"r\") as file:\n",
    "    updated_content = file.read()\n",
    "print(\"Updated content:\\n\", updated_content)"
   ]
  },
  {
   "cell_type": "code",
   "execution_count": null,
   "id": "5012f94d-e249-4392-a010-e2c4689bf632",
   "metadata": {},
   "outputs": [],
   "source": []
  }
 ],
 "metadata": {
  "kernelspec": {
   "display_name": "Python 3 (ipykernel)",
   "language": "python",
   "name": "python3"
  },
  "language_info": {
   "codemirror_mode": {
    "name": "ipython",
    "version": 3
   },
   "file_extension": ".py",
   "mimetype": "text/x-python",
   "name": "python",
   "nbconvert_exporter": "python",
   "pygments_lexer": "ipython3",
   "version": "3.10.12"
  }
 },
 "nbformat": 4,
 "nbformat_minor": 5
}

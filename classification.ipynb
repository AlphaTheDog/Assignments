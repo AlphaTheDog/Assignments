{
 "cells": [
  {
   "cell_type": "code",
   "execution_count": 2,
   "id": "6a579b96-7973-4047-8b3d-73a0acfde817",
   "metadata": {},
   "outputs": [],
   "source": [
    "from sklearn import datasets\n",
    "iris = datasets.load_iris()\n",
    "#iris.data"
   ]
  },
  {
   "cell_type": "code",
   "execution_count": 3,
   "id": "00b8d10f-5f24-4583-8d47-6c232bba5e82",
   "metadata": {},
   "outputs": [],
   "source": [
    "from sklearn.model_selection import train_test_split\n",
    "X_train, X_test, y_train, y_test = train_test_split(iris.data, iris.target, test_size=0.3, random_state=42)"
   ]
  },
  {
   "cell_type": "code",
   "execution_count": 4,
   "id": "be3feeca-5ea0-4edc-aeb2-1d96a65ebf0b",
   "metadata": {},
   "outputs": [],
   "source": [
    "from sklearn.preprocessing import StandardScaler\n",
    "scaler = StandardScaler()\n",
    "X_train_scaled = scaler.fit_transform(X_train)\n",
    "X_test_scaled = scaler.transform(X_test)"
   ]
  },
  {
   "cell_type": "code",
   "execution_count": 5,
   "id": "fd4eff61-5c3b-4cd6-b4fd-a21330bc09f0",
   "metadata": {},
   "outputs": [],
   "source": [
    "from sklearn.impute import SimpleImputer\n",
    "imputer = SimpleImputer(strategy='mean')\n",
    "X_train_imputed = imputer.fit_transform(X_train)\n",
    "X_test_imputed = imputer.transform(X_test)"
   ]
  },
  {
   "cell_type": "code",
   "execution_count": 6,
   "id": "62f6a17c-af38-4253-8a26-591da31e790e",
   "metadata": {},
   "outputs": [],
   "source": [
    "from sklearn.linear_model import LogisticRegression\n",
    "logreg = LogisticRegression()\n",
    "logreg.fit(X_train_scaled, y_train)\n",
    "predictions = logreg.predict(X_test_scaled)"
   ]
  },
  {
   "cell_type": "code",
   "execution_count": 7,
   "id": "1fe673e7-068a-46a4-b7a2-e875d3411016",
   "metadata": {},
   "outputs": [
    {
     "data": {
      "text/plain": [
       "0.9619047619047619"
      ]
     },
     "execution_count": 7,
     "metadata": {},
     "output_type": "execute_result"
    }
   ],
   "source": [
    "logreg.score(X_train_scaled, y_train)"
   ]
  },
  {
   "cell_type": "code",
   "execution_count": 8,
   "id": "c66c547e-57ac-4a77-ad3e-24c612cc6e5b",
   "metadata": {},
   "outputs": [],
   "source": [
    "from sklearn.neighbors import KNeighborsClassifier\n",
    "knn = KNeighborsClassifier(n_neighbors=3)\n",
    "knn.fit(X_train_scaled, y_train)\n",
    "predictions = knn.predict(X_test_scaled)"
   ]
  },
  {
   "cell_type": "code",
   "execution_count": 9,
   "id": "8b4e3b4e-36ec-4d13-aeb6-f663600e2fa3",
   "metadata": {},
   "outputs": [
    {
     "data": {
      "text/plain": [
       "0.9428571428571428"
      ]
     },
     "execution_count": 9,
     "metadata": {},
     "output_type": "execute_result"
    }
   ],
   "source": [
    "knn.score(X_train_scaled, y_train)"
   ]
  },
  {
   "cell_type": "code",
   "execution_count": 10,
   "id": "2685cf29-6854-435c-9729-235bc9f47aa6",
   "metadata": {},
   "outputs": [],
   "source": [
    "from sklearn.svm import SVC\n",
    "svm = SVC(kernel='linear', C=1)\n",
    "svm.fit(X_train_scaled, y_train)\n",
    "predictions = svm.predict(X_test_scaled)"
   ]
  },
  {
   "cell_type": "code",
   "execution_count": 11,
   "id": "223b39b6-85c5-486e-9d57-b98ed377d64b",
   "metadata": {},
   "outputs": [
    {
     "data": {
      "text/plain": [
       "0.9714285714285714"
      ]
     },
     "execution_count": 11,
     "metadata": {},
     "output_type": "execute_result"
    }
   ],
   "source": [
    "svm.score(X_train_scaled, y_train)"
   ]
  },
  {
   "cell_type": "code",
   "execution_count": 12,
   "id": "d32ac1c4-3bb7-4b18-a152-34274b03cbd8",
   "metadata": {},
   "outputs": [],
   "source": [
    "from sklearn.tree import DecisionTreeClassifier\n",
    "dtree = DecisionTreeClassifier(max_depth=3, random_state=42)\n",
    "dtree.fit(X_train_scaled, y_train)\n",
    "predictions = dtree.predict(X_test_scaled)"
   ]
  },
  {
   "cell_type": "code",
   "execution_count": 13,
   "id": "9a980189-83e9-46e7-81bd-fe9eba9485f7",
   "metadata": {},
   "outputs": [
    {
     "data": {
      "text/plain": [
       "0.9523809523809523"
      ]
     },
     "execution_count": 13,
     "metadata": {},
     "output_type": "execute_result"
    }
   ],
   "source": [
    "dtree.score(X_train_scaled, y_train)"
   ]
  },
  {
   "cell_type": "code",
   "execution_count": 14,
   "id": "8357fb6f-128c-4834-92fb-5d0398a67f58",
   "metadata": {},
   "outputs": [],
   "source": [
    "from sklearn.naive_bayes import GaussianNB\n",
    "gnb = GaussianNB()\n",
    "gnb.fit(X_train_scaled, y_train)\n",
    "predictions = gnb.predict(X_test_scaled)"
   ]
  },
  {
   "cell_type": "code",
   "execution_count": 15,
   "id": "18c1b3ba-7c4a-41dd-a646-66f0ccbb5d48",
   "metadata": {},
   "outputs": [
    {
     "data": {
      "text/plain": [
       "0.9428571428571428"
      ]
     },
     "execution_count": 15,
     "metadata": {},
     "output_type": "execute_result"
    }
   ],
   "source": [
    "gnb.score(X_train_scaled, y_train)"
   ]
  },
  {
   "cell_type": "code",
   "execution_count": 16,
   "id": "0787e625-e606-4a61-b33c-1a64d8cbee00",
   "metadata": {},
   "outputs": [
    {
     "name": "stderr",
     "output_type": "stream",
     "text": [
      "/tmp/ipykernel_6557/3116323610.py:15: FutureWarning: A value is trying to be set on a copy of a DataFrame or Series through chained assignment using an inplace method.\n",
      "The behavior will change in pandas 3.0. This inplace method will never work because the intermediate object on which we are setting values always behaves as a copy.\n",
      "\n",
      "For example, when doing 'df[col].method(value, inplace=True)', try using 'df.method({col: value}, inplace=True)' or df[col] = df[col].method(value) instead, to perform the operation inplace on the original object.\n",
      "\n",
      "\n",
      "  data['TotalCharges'].fillna(data['TotalCharges'].mean(), inplace=True)\n"
     ]
    },
    {
     "name": "stdout",
     "output_type": "stream",
     "text": [
      "Logistic Regression - Accuracy: 0.8106956933270232, Precision: 0.68125, Recall: 0.5696864111498258, F1: 0.6204933586337761\n",
      "Random Forest - Accuracy: 0.7927117841930904, Precision: 0.67, Recall: 0.46689895470383275, F1: 0.5503080082135524\n",
      "Optimized Random Forest - Accuracy: 0.7974443918599148, Precision: 0.665158371040724, Recall: 0.5121951219512195, F1: 0.5787401574803149\n",
      "\n",
      "Important Features:\n",
      "TotalCharges        0.193022\n",
      "MonthlyCharges      0.191186\n",
      "tenure              0.182035\n",
      "Contract            0.143701\n",
      "OnlineSecurity      0.094893\n",
      "TechSupport         0.050048\n",
      "PaymentMethod       0.048410\n",
      "InternetService     0.045082\n",
      "PaperlessBilling    0.026997\n",
      "OnlineBackup        0.024626\n",
      "dtype: float64\n",
      "\n",
      "Based on the evaluation metrics, the Optimized Random Forest model is the best-performing model.\n",
      "The top features contributing to customer churn prediction are:\n",
      "TotalCharges      0.193022\n",
      "MonthlyCharges    0.191186\n",
      "tenure            0.182035\n",
      "Contract          0.143701\n",
      "OnlineSecurity    0.094893\n",
      "dtype: float64\n"
     ]
    }
   ],
   "source": [
    "import pandas as pd\n",
    "import numpy as np\n",
    "from sklearn.model_selection import train_test_split, GridSearchCV\n",
    "from sklearn.preprocessing import StandardScaler, LabelEncoder\n",
    "from sklearn.linear_model import LogisticRegression\n",
    "from sklearn.metrics import accuracy_score, precision_score, recall_score, f1_score\n",
    "from sklearn.ensemble import RandomForestClassifier\n",
    "from sklearn.feature_selection import RFE\n",
    "\n",
    "# Load dataset\n",
    "data = pd.read_csv('Telco-Customer-Churn.csv')\n",
    "\n",
    "# Preprocessing\n",
    "data['TotalCharges'] = pd.to_numeric(data['TotalCharges'], errors='coerce')\n",
    "data['TotalCharges'].fillna(data['TotalCharges'].mean(), inplace=True)\n",
    "\n",
    "for column in data.select_dtypes(include=['object']):\n",
    "    if column != 'customerID':\n",
    "        data[column] = LabelEncoder().fit_transform(data[column])\n",
    "\n",
    "# Splitting dataset\n",
    "X = data.drop(['customerID', 'Churn'], axis=1)\n",
    "y = data['Churn']\n",
    "X_train, X_test, y_train, y_test = train_test_split(X, y, test_size=0.3, random_state=42)\n",
    "\n",
    "# Scaling features\n",
    "scaler = StandardScaler()\n",
    "X_train = scaler.fit_transform(X_train)\n",
    "X_test = scaler.transform(X_test)\n",
    "\n",
    "# Training and evaluating models\n",
    "logreg = LogisticRegression()\n",
    "logreg.fit(X_train, y_train)\n",
    "logreg_preds = logreg.predict(X_test)\n",
    "\n",
    "rf = RandomForestClassifier()\n",
    "rf.fit(X_train, y_train)\n",
    "rf_preds = rf.predict(X_test)\n",
    "\n",
    "# Metrics\n",
    "logreg_accuracy = accuracy_score(y_test, logreg_preds)\n",
    "logreg_precision = precision_score(y_test, logreg_preds)\n",
    "logreg_recall = recall_score(y_test, logreg_preds)\n",
    "logreg_f1 = f1_score(y_test, logreg_preds)\n",
    "\n",
    "rf_accuracy = accuracy_score(y_test, rf_preds)\n",
    "rf_precision = precision_score(y_test, rf_preds)\n",
    "rf_recall = recall_score(y_test, rf_preds)\n",
    "rf_f1 = f1_score(y_test, rf_preds)\n",
    "\n",
    "print(f\"Logistic Regression - Accuracy: {logreg_accuracy}, Precision: {logreg_precision}, Recall: {logreg_recall}, F1: {logreg_f1}\")\n",
    "print(f\"Random Forest - Accuracy: {rf_accuracy}, Precision: {rf_precision}, Recall: {rf_recall}, F1: {rf_f1}\")\n",
    "\n",
    "# Hyperparameter tuning\n",
    "param_grid = {'n_estimators': [10, 50, 100], 'max_depth': [None, 10, 20]}\n",
    "grid_search = GridSearchCV(RandomForestClassifier(), param_grid, cv=5)\n",
    "grid_search.fit(X_train, y_train)\n",
    "best_params = grid_search.best_params_\n",
    "\n",
    "# Feature selection\n",
    "rfe = RFE(RandomForestClassifier(**best_params), n_features_to_select=10)\n",
    "X_train_rfe = rfe.fit_transform(X_train, y_train)\n",
    "X_test_rfe = rfe.transform(X_test)\n",
    "\n",
    "rf_optimized = RandomForestClassifier(**best_params)\n",
    "rf_optimized.fit(X_train_rfe, y_train)\n",
    "rf_optimized_preds = rf_optimized.predict(X_test_rfe)\n",
    "\n",
    "rf_optimized_accuracy = accuracy_score(y_test, rf_optimized_preds)\n",
    "rf_optimized_precision = precision_score(y_test, rf_optimized_preds)\n",
    "rf_optimized_recall = recall_score(y_test, rf_optimized_preds)\n",
    "rf_optimized_f1 = f1_score(y_test, rf_optimized_preds)\n",
    "\n",
    "print(f\"Optimized Random Forest - Accuracy: {rf_optimized_accuracy}, Precision: {rf_optimized_precision}, Recall: {rf_optimized_recall}, F1: {rf_optimized_f1}\")\n",
    "\n",
    "\n",
    "#Identifying important features\n",
    "important_features = pd.Series(rf_optimized.feature_importances_, index=X.columns[rfe.support_])\n",
    "important_features = important_features.sort_values(ascending=False)\n",
    "\n",
    "print(\"\\nImportant Features:\")\n",
    "print(important_features)\n",
    "\n",
    "\n",
    "#Conclusion\n",
    "print(\"\\nBased on the evaluation metrics, the Optimized Random Forest model is the best-performing model.\")\n",
    "print(\"The top features contributing to customer churn prediction are:\")\n",
    "print(important_features.head(5))"
   ]
  },
  {
   "cell_type": "code",
   "execution_count": null,
   "id": "fbc0d7de-77cf-4c0e-87e3-caf27647afa5",
   "metadata": {},
   "outputs": [],
   "source": []
  }
 ],
 "metadata": {
  "kernelspec": {
   "display_name": "Python 3 (ipykernel)",
   "language": "python",
   "name": "python3"
  },
  "language_info": {
   "codemirror_mode": {
    "name": "ipython",
    "version": 3
   },
   "file_extension": ".py",
   "mimetype": "text/x-python",
   "name": "python",
   "nbconvert_exporter": "python",
   "pygments_lexer": "ipython3",
   "version": "3.10.12"
  }
 },
 "nbformat": 4,
 "nbformat_minor": 5
}
